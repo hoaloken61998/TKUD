{
  "nbformat": 4,
  "nbformat_minor": 0,
  "metadata": {
    "colab": {
      "provenance": []
    },
    "kernelspec": {
      "name": "python3",
      "display_name": "Python 3"
    },
    "language_info": {
      "name": "python"
    }
  },
  "cells": [
    {
      "cell_type": "code",
      "source": [
        "!pip install playwright pandas tqdm nest_asyncio\n",
        "!playwright install --with-deps chromium"
      ],
      "metadata": {
        "colab": {
          "base_uri": "https://localhost:8080/"
        },
        "id": "9t0bp4deScxY",
        "outputId": "16693216-a2b6-419e-9f54-f5f0601f8bbc"
      },
      "execution_count": 21,
      "outputs": [
        {
          "output_type": "stream",
          "name": "stdout",
          "text": [
            "Requirement already satisfied: playwright in /usr/local/lib/python3.11/dist-packages (1.52.0)\n",
            "Requirement already satisfied: pandas in /usr/local/lib/python3.11/dist-packages (2.2.2)\n",
            "Requirement already satisfied: tqdm in /usr/local/lib/python3.11/dist-packages (4.67.1)\n",
            "Requirement already satisfied: nest_asyncio in /usr/local/lib/python3.11/dist-packages (1.6.0)\n",
            "Requirement already satisfied: pyee<14,>=13 in /usr/local/lib/python3.11/dist-packages (from playwright) (13.0.0)\n",
            "Requirement already satisfied: greenlet<4.0.0,>=3.1.1 in /usr/local/lib/python3.11/dist-packages (from playwright) (3.2.2)\n",
            "Requirement already satisfied: numpy>=1.23.2 in /usr/local/lib/python3.11/dist-packages (from pandas) (2.0.2)\n",
            "Requirement already satisfied: python-dateutil>=2.8.2 in /usr/local/lib/python3.11/dist-packages (from pandas) (2.9.0.post0)\n",
            "Requirement already satisfied: pytz>=2020.1 in /usr/local/lib/python3.11/dist-packages (from pandas) (2025.2)\n",
            "Requirement already satisfied: tzdata>=2022.7 in /usr/local/lib/python3.11/dist-packages (from pandas) (2025.2)\n",
            "Requirement already satisfied: typing-extensions in /usr/local/lib/python3.11/dist-packages (from pyee<14,>=13->playwright) (4.14.0)\n",
            "Requirement already satisfied: six>=1.5 in /usr/local/lib/python3.11/dist-packages (from python-dateutil>=2.8.2->pandas) (1.17.0)\n",
            "Installing dependencies...\n",
            "Hit:1 http://archive.ubuntu.com/ubuntu jammy InRelease\n",
            "Hit:2 http://archive.ubuntu.com/ubuntu jammy-updates InRelease\n",
            "Hit:3 http://archive.ubuntu.com/ubuntu jammy-backports InRelease\n",
            "Hit:4 https://cloud.r-project.org/bin/linux/ubuntu jammy-cran40/ InRelease\n",
            "Hit:5 https://developer.download.nvidia.com/compute/cuda/repos/ubuntu2204/x86_64  InRelease\n",
            "Hit:6 http://security.ubuntu.com/ubuntu jammy-security InRelease\n",
            "Hit:7 https://r2u.stat.illinois.edu/ubuntu jammy InRelease\n",
            "Hit:8 https://ppa.launchpadcontent.net/deadsnakes/ppa/ubuntu jammy InRelease\n",
            "Hit:9 https://ppa.launchpadcontent.net/graphics-drivers/ppa/ubuntu jammy InRelease\n",
            "Hit:10 https://ppa.launchpadcontent.net/ubuntugis/ppa/ubuntu jammy InRelease\n",
            "Reading package lists... Done\n",
            "W: Skipping acquire of configured file 'main/source/Sources' as repository 'https://r2u.stat.illinois.edu/ubuntu jammy InRelease' does not seem to provide it (sources.list entry misspelt?)\n",
            "Reading package lists... Done\n",
            "Building dependency tree... Done\n",
            "Reading state information... Done\n",
            "fonts-freefont-ttf is already the newest version (20120503-10build1).\n",
            "fonts-liberation is already the newest version (1:1.07.4-11).\n",
            "libasound2 is already the newest version (1.2.6.1-1ubuntu1).\n",
            "libatk-bridge2.0-0 is already the newest version (2.38.0-3).\n",
            "libatk1.0-0 is already the newest version (2.36.0-3build1).\n",
            "libatspi2.0-0 is already the newest version (2.44.0-3).\n",
            "libcairo2 is already the newest version (1.16.0-5ubuntu2).\n",
            "libfontconfig1 is already the newest version (2.13.1-4.2ubuntu5).\n",
            "libxcb1 is already the newest version (1.14-3ubuntu3).\n",
            "libxcomposite1 is already the newest version (1:0.4.5-1build2).\n",
            "libxdamage1 is already the newest version (1:1.1.5-2build2).\n",
            "libxext6 is already the newest version (2:1.3.4-1build1).\n",
            "libxfixes3 is already the newest version (1:6.0.0-1).\n",
            "libxkbcommon0 is already the newest version (1.4.0-1).\n",
            "libxrandr2 is already the newest version (2:1.5.2-1build1).\n",
            "xfonts-scalable is already the newest version (1:1.0.3-1.2ubuntu1).\n",
            "fonts-ipafont-gothic is already the newest version (00303-21ubuntu1).\n",
            "fonts-tlwg-loma-otf is already the newest version (1:0.7.3-1).\n",
            "fonts-unifont is already the newest version (1:14.0.01-1).\n",
            "fonts-wqy-zenhei is already the newest version (0.9.45-8).\n",
            "xfonts-cyrillic is already the newest version (1:1.0.5).\n",
            "fonts-noto-color-emoji is already the newest version (2.047-0ubuntu0.22.04.1).\n",
            "libcups2 is already the newest version (2.4.1op1-1ubuntu4.11).\n",
            "libdbus-1-3 is already the newest version (1.12.20-2ubuntu4.1).\n",
            "libdrm2 is already the newest version (2.4.113-2~ubuntu0.22.04.1).\n",
            "libfreetype6 is already the newest version (2.11.1+dfsg-1ubuntu0.3).\n",
            "libgbm1 is already the newest version (23.2.1-1ubuntu3.1~22.04.3).\n",
            "libglib2.0-0 is already the newest version (2.72.4-0ubuntu2.5).\n",
            "libnspr4 is already the newest version (2:4.35-0ubuntu0.22.04.1).\n",
            "libnss3 is already the newest version (2:3.98-0ubuntu0.22.04.2).\n",
            "libpango-1.0-0 is already the newest version (1.50.6+ds-2ubuntu1).\n",
            "libwayland-client0 is already the newest version (1.20.0-1ubuntu0.1).\n",
            "libx11-6 is already the newest version (2:1.7.5-1ubuntu0.3).\n",
            "xvfb is already the newest version (2:21.1.4-2ubuntu1.7~22.04.14).\n",
            "0 upgraded, 0 newly installed, 0 to remove and 35 not upgraded.\n"
          ]
        }
      ]
    },
    {
      "cell_type": "code",
      "execution_count": 22,
      "metadata": {
        "id": "eqIDQ0uqNf0K"
      },
      "outputs": [],
      "source": [
        "import asyncio\n",
        "import pandas as pd\n",
        "from playwright.async_api import async_playwright, Page\n",
        "from tqdm.asyncio import tqdm_asyncio\n",
        "import nest_asyncio\n"
      ]
    },
    {
      "cell_type": "code",
      "source": [
        "df = pd.read_csv(\"/content/job_part1.csv\")"
      ],
      "metadata": {
        "id": "irzM98crS67v"
      },
      "execution_count": 23,
      "outputs": []
    },
    {
      "cell_type": "code",
      "source": [
        "# --- Helper Functions to Scrape Specific Details ---\n",
        "async def get_nganh_nghe_from_page(page: Page) -> str:\n",
        "    \"\"\"\n",
        "    Trích xuất thông tin Ngành nghề từ trang chi tiết công việc.\n",
        "    \"\"\"\n",
        "    # print(\"INFO: Đang tìm và trích xuất mục: 'Ngành nghề'\") # Optional: for verbose logging\n",
        "    try:\n",
        "        # Attempts to find an <li> element that contains a <strong> with \"Ngành nghề\"\n",
        "        # and then extracts text from the <p> > <a> element within that <li>.\n",
        "        label_element = await page.query_selector(\"xpath=//li[.//strong[contains(normalize-space(.), 'Ngành nghề')]]\")\n",
        "        if label_element:\n",
        "            value_element = await label_element.query_selector(\"p > a\")\n",
        "            if value_element:\n",
        "                text = (await value_element.inner_text()).strip()\n",
        "                if text:\n",
        "                    return text\n",
        "\n",
        "        # Fallback: Try finding a <strong> containing \"Ngành nghề\" and then its sibling <p> > <a>\n",
        "        strong_nganh_nghe = await page.query_selector(\"xpath=//strong[contains(normalize-space(.), 'Ngành nghề')]\")\n",
        "        if strong_nganh_nghe:\n",
        "            # Try to find the parent li first, then the p > a structure, which is common\n",
        "            parent_li = await strong_nganh_nghe.query_selector(\"xpath=ancestor::li\")\n",
        "            if parent_li:\n",
        "                 p_tag = await parent_li.query_selector(\"p\")\n",
        "                 if p_tag:\n",
        "                    a_tag = await p_tag.query_selector(\"a\")\n",
        "                    if a_tag:\n",
        "                        text = (await a_tag.inner_text()).strip()\n",
        "                        if text: return text\n",
        "            else: # If not in an li, try direct sibling p > a\n",
        "                p_sibling = await strong_nganh_nghe.query_selector(\"xpath=./following-sibling::p[1]\")\n",
        "                if p_sibling:\n",
        "                    a_tag = await p_sibling.query_selector(\"a\")\n",
        "                    if a_tag:\n",
        "                        text = (await a_tag.inner_text()).strip()\n",
        "                        if text: return text\n",
        "        # print(\"LƯU Ý: Không tìm thấy 'Ngành nghề' với các selector đã thử.\") # Optional\n",
        "    except Exception as e:\n",
        "        print(f\"LỖI khi trích xuất Ngành nghề cho {page.url}: {e}\")\n",
        "    return \"N/A\"\n",
        "\n",
        "async def get_hinh_thuc_from_page(page: Page) -> str:\n",
        "    \"\"\"\n",
        "    Trích xuất thông tin Hình thức từ trang chi tiết công việc.\n",
        "    \"\"\"\n",
        "    # print(\"INFO: Đang tìm và trích xuất mục: 'Hình thức'\") # Optional\n",
        "    try:\n",
        "        label_element = await page.query_selector(\"xpath=//li[.//strong[contains(normalize-space(.), 'Hình thức')]]\")\n",
        "        if label_element:\n",
        "            value_element = await label_element.query_selector(\"p\")\n",
        "            if value_element:\n",
        "                text = (await value_element.inner_text()).strip()\n",
        "                if text:\n",
        "                    return text\n",
        "\n",
        "        strong_hinh_thuc = await page.query_selector(\"xpath=//strong[contains(normalize-space(.), 'Hình thức')]\")\n",
        "        if strong_hinh_thuc:\n",
        "            parent_li = await strong_hinh_thuc.query_selector(\"xpath=ancestor::li\")\n",
        "            if parent_li:\n",
        "                p_tag = await parent_li.query_selector(\"p\")\n",
        "                if p_tag:\n",
        "                    text = (await p_tag.inner_text()).strip()\n",
        "                    if text: return text\n",
        "            else: # If not in an li, try direct sibling p\n",
        "                p_sibling = await strong_hinh_thuc.query_selector(\"xpath=./following-sibling::p[1]\")\n",
        "                if p_sibling:\n",
        "                    text = (await p_sibling.inner_text()).strip()\n",
        "                    if text: return text\n",
        "        # print(\"LƯU Ý: Không tìm thấy 'Hình thức' với các selector đã thử.\") # Optional\n",
        "    except Exception as e:\n",
        "        print(f\"LỖI khi trích xuất Hình thức cho {page.url}: {e}\")\n",
        "    return \"N/A\"\n",
        "\n",
        "async def scrape_job_details(job_urls: list) -> pd.DataFrame:\n",
        "    \"\"\"\n",
        "    Scrapes 'Ngành nghề' and 'Hình thức' for a list of job URLs.\n",
        "    \"\"\"\n",
        "    results = []\n",
        "    user_agent = \"Mozilla/5.0 (Windows NT 10.0; Win64; x64) AppleWebKit/537.36 (KHTML, like Gecko) Chrome/100.0.4896.127 Safari/537.36\"\n",
        "\n",
        "    async with async_playwright() as p:\n",
        "        browser = await p.chromium.launch(headless=True) # Set to False to see browser for debugging\n",
        "        context = await browser.new_context(user_agent=user_agent, java_script_enabled=True)\n",
        "        page = await context.new_page()\n",
        "\n",
        "        for url in tqdm_asyncio(job_urls, desc=\"Scraping job details\"):\n",
        "            if not isinstance(url, str) or not url.startswith(\"http\"):\n",
        "                print(f\"URL không hợp lệ, bỏ qua: {url}\")\n",
        "                results.append({\"URL\": url, \"NganhNghe\": \"Invalid URL\", \"HinhThuc\": \"Invalid URL\"})\n",
        "                continue\n",
        "\n",
        "            nganh_nghe = \"N/A\"\n",
        "            hinh_thuc = \"N/A\"\n",
        "\n",
        "            try:\n",
        "                await page.goto(url, wait_until=\"networkidle\", timeout=60000) # networkidle can be more robust\n",
        "                # await page.wait_for_timeout(1000) # Optional small delay if elements load slowly\n",
        "\n",
        "                nganh_nghe = await get_nganh_nghe_from_page(page)\n",
        "                hinh_thuc = await get_hinh_thuc_from_page(page)\n",
        "\n",
        "                print(f\"URL: {url} -> Ngành nghề: {nganh_nghe}, Hình thức: {hinh_thuc}\")\n",
        "\n",
        "            except Exception as e:\n",
        "                print(f\"Lỗi nghiêm trọng khi xử lý URL {url}: {e}\")\n",
        "                nganh_nghe = f\"Lỗi: {str(e)[:50]}\" # Store part of the error\n",
        "                hinh_thuc = f\"Lỗi: {str(e)[:50]}\"\n",
        "\n",
        "            results.append({\"URL\": url, \"NganhNghe\": nganh_nghe, \"HinhThuc\": hinh_thuc})\n",
        "            await asyncio.sleep(1) # Be polite to the server\n",
        "\n",
        "        await browser.close()\n",
        "\n",
        "    return pd.DataFrame(results)"
      ],
      "metadata": {
        "id": "kCzh4_MBOYL3"
      },
      "execution_count": 24,
      "outputs": []
    },
    {
      "cell_type": "code",
      "source": [
        "# --- Main Execution ---\n",
        "async def main():\n",
        "    # !!! REPLACE WITH YOUR LIST OF URLs !!!\n",
        "    # Example URLs (use actual careerviet.vn job detail URLs):\n",
        "    list_of_job_urls = df[\"URL\"][:5].to_list()\n",
        "\n",
        "    if not list_of_job_urls:\n",
        "        print(\"Danh sách URL trống. Vui lòng cung cấp URL để cào dữ liệu.\")\n",
        "        return\n",
        "\n",
        "    print(f\"Bắt đầu cào dữ liệu cho {len(list_of_job_urls)} URLs...\")\n",
        "    detailed_df = await scrape_job_details(list_of_job_urls)\n",
        "\n",
        "    print(\"\\n--- Kết quả cào dữ liệu ---\")\n",
        "    if not detailed_df.empty:\n",
        "        from google.colab import data_table # For better table display in Colab\n",
        "        display(data_table.DataTable(detailed_df, include_index=False, num_rows_per_page=10))\n",
        "\n",
        "        # Save to Excel\n",
        "        output_filename = \"careerviet_nganh_nghe_hinh_thuc.xlsx\"\n",
        "        detailed_df.to_excel(output_filename, index=False, engine='openpyxl')\n",
        "        print(f\"\\nDữ liệu đã được lưu vào file: {output_filename}\")\n",
        "    else:\n",
        "        print(\"Không có dữ liệu nào được cào.\")"
      ],
      "metadata": {
        "id": "Y5ccKAsWOuzm"
      },
      "execution_count": 25,
      "outputs": []
    },
    {
      "cell_type": "code",
      "source": [
        "await main()"
      ],
      "metadata": {
        "colab": {
          "base_uri": "https://localhost:8080/",
          "height": 439
        },
        "id": "HW8-ZWHoOn_G",
        "outputId": "6759e37d-999f-45f7-8828-725b79d18894"
      },
      "execution_count": 27,
      "outputs": [
        {
          "output_type": "stream",
          "name": "stdout",
          "text": [
            "Bắt đầu cào dữ liệu cho 5 URLs...\n"
          ]
        },
        {
          "output_type": "stream",
          "name": "stderr",
          "text": [
            "\rScraping job details:   0%|          | 0/5 [00:00<?, ?it/s]"
          ]
        },
        {
          "output_type": "stream",
          "name": "stdout",
          "text": [
            "URL: https://careerviet.vn/vi/tim-viec-lam/chuyen-vien-ho-tro-ky-thuat-o-to-thuong-mai.35C4A0D4.html -> Ngành nghề: Cơ khí / Ô tô / Tự động hóa, Hình thức: Nhân viên chính thức\n"
          ]
        },
        {
          "output_type": "stream",
          "name": "stderr",
          "text": [
            "\rScraping job details:  20%|██        | 1/5 [00:16<01:04, 16.14s/it]"
          ]
        },
        {
          "output_type": "stream",
          "name": "stdout",
          "text": [
            "URL: https://careerviet.vn/vi/tim-viec-lam/chuyen-vien-phu-tung.35C4A0D3.html -> Ngành nghề: Tiếp thị / Marketing, Hình thức: Nhân viên chính thức\n"
          ]
        },
        {
          "output_type": "stream",
          "name": "stderr",
          "text": [
            "\rScraping job details:  40%|████      | 2/5 [00:22<00:31, 10.59s/it]"
          ]
        },
        {
          "output_type": "stream",
          "name": "stdout",
          "text": [
            "URL: https://careerviet.vn/vi/tim-viec-lam/pho-truong-bo-phan-phap-ly-dang-kiem-xe-cbu-ckd.35C4A0D1.html -> Ngành nghề: Luật / Pháp lý, Hình thức: Nhân viên chính thức\n"
          ]
        },
        {
          "output_type": "stream",
          "name": "stderr",
          "text": [
            "\rScraping job details:  60%|██████    | 3/5 [00:30<00:18,  9.44s/it]"
          ]
        },
        {
          "output_type": "stream",
          "name": "stdout",
          "text": [
            "URL: https://careerviet.vn/vi/tim-viec-lam/tai-xe-lai-xe-cho-giam-doc.35C4A0C8.html -> Ngành nghề: Vận chuyển / Giao nhận / Kho vận, Hình thức: Nhân viên chính thức\n"
          ]
        },
        {
          "output_type": "stream",
          "name": "stderr",
          "text": [
            "\rScraping job details:  80%|████████  | 4/5 [00:37<00:08,  8.23s/it]"
          ]
        },
        {
          "output_type": "stream",
          "name": "stdout",
          "text": [
            "URL: https://careerviet.vn/vi/tim-viec-lam/phien-dich-vien-tieng-trung-quoc.35C4A0C1.html -> Ngành nghề: Hành chính / Thư ký, Hình thức: Nhân viên chính thức\n"
          ]
        },
        {
          "output_type": "stream",
          "name": "stderr",
          "text": [
            "Scraping job details: 100%|██████████| 5/5 [00:44<00:00,  8.87s/it]\n"
          ]
        },
        {
          "output_type": "stream",
          "name": "stdout",
          "text": [
            "\n",
            "--- Kết quả cào dữ liệu ---\n"
          ]
        },
        {
          "output_type": "display_data",
          "data": {
            "text/html": [
              "<div>\n",
              "<style scoped>\n",
              "    .dataframe tbody tr th:only-of-type {\n",
              "        vertical-align: middle;\n",
              "    }\n",
              "\n",
              "    .dataframe tbody tr th {\n",
              "        vertical-align: top;\n",
              "    }\n",
              "\n",
              "    .dataframe thead th {\n",
              "        text-align: right;\n",
              "    }\n",
              "</style>\n",
              "<table border=\"1\" class=\"dataframe\">\n",
              "  <thead>\n",
              "    <tr style=\"text-align: right;\">\n",
              "      <th></th>\n",
              "      <th>URL</th>\n",
              "      <th>NganhNghe</th>\n",
              "      <th>HinhThuc</th>\n",
              "    </tr>\n",
              "  </thead>\n",
              "  <tbody>\n",
              "    <tr>\n",
              "      <th>0</th>\n",
              "      <td>https://careerviet.vn/vi/tim-viec-lam/chuyen-vien-ho-tro-ky-thuat-o-to-thuong-mai.35C4A0D4.html</td>\n",
              "      <td>Cơ khí / Ô tô / Tự động hóa</td>\n",
              "      <td>Nhân viên chính thức</td>\n",
              "    </tr>\n",
              "    <tr>\n",
              "      <th>1</th>\n",
              "      <td>https://careerviet.vn/vi/tim-viec-lam/chuyen-vien-phu-tung.35C4A0D3.html</td>\n",
              "      <td>Tiếp thị / Marketing</td>\n",
              "      <td>Nhân viên chính thức</td>\n",
              "    </tr>\n",
              "    <tr>\n",
              "      <th>2</th>\n",
              "      <td>https://careerviet.vn/vi/tim-viec-lam/pho-truong-bo-phan-phap-ly-dang-kiem-xe-cbu-ckd.35C4A0D1.html</td>\n",
              "      <td>Luật / Pháp lý</td>\n",
              "      <td>Nhân viên chính thức</td>\n",
              "    </tr>\n",
              "    <tr>\n",
              "      <th>3</th>\n",
              "      <td>https://careerviet.vn/vi/tim-viec-lam/tai-xe-lai-xe-cho-giam-doc.35C4A0C8.html</td>\n",
              "      <td>Vận chuyển / Giao nhận / Kho vận</td>\n",
              "      <td>Nhân viên chính thức</td>\n",
              "    </tr>\n",
              "    <tr>\n",
              "      <th>4</th>\n",
              "      <td>https://careerviet.vn/vi/tim-viec-lam/phien-dich-vien-tieng-trung-quoc.35C4A0C1.html</td>\n",
              "      <td>Hành chính / Thư ký</td>\n",
              "      <td>Nhân viên chính thức</td>\n",
              "    </tr>\n",
              "  </tbody>\n",
              "</table>\n",
              "</div>"
            ],
            "application/vnd.google.colaboratory.module+javascript": "\n      import \"https://ssl.gstatic.com/colaboratory/data_table/e523c247d1e24a05/data_table.js\";\n\n      const table = window.createDataTable({\n        data: [[\"https://careerviet.vn/vi/tim-viec-lam/chuyen-vien-ho-tro-ky-thuat-o-to-thuong-mai.35C4A0D4.html\",\n\"C\\u01a1 kh\\u00ed / \\u00d4 t\\u00f4 / T\\u1ef1 \\u0111\\u1ed9ng h\\u00f3a\",\n\"Nh\\u00e2n vi\\u00ean ch\\u00ednh th\\u1ee9c\"],\n [\"https://careerviet.vn/vi/tim-viec-lam/chuyen-vien-phu-tung.35C4A0D3.html\",\n\"Ti\\u1ebfp th\\u1ecb / Marketing\",\n\"Nh\\u00e2n vi\\u00ean ch\\u00ednh th\\u1ee9c\"],\n [\"https://careerviet.vn/vi/tim-viec-lam/pho-truong-bo-phan-phap-ly-dang-kiem-xe-cbu-ckd.35C4A0D1.html\",\n\"Lu\\u1eadt / Ph\\u00e1p l\\u00fd\",\n\"Nh\\u00e2n vi\\u00ean ch\\u00ednh th\\u1ee9c\"],\n [\"https://careerviet.vn/vi/tim-viec-lam/tai-xe-lai-xe-cho-giam-doc.35C4A0C8.html\",\n\"V\\u1eadn chuy\\u1ec3n / Giao nh\\u1eadn / Kho v\\u1eadn\",\n\"Nh\\u00e2n vi\\u00ean ch\\u00ednh th\\u1ee9c\"],\n [\"https://careerviet.vn/vi/tim-viec-lam/phien-dich-vien-tieng-trung-quoc.35C4A0C1.html\",\n\"H\\u00e0nh ch\\u00ednh / Th\\u01b0 k\\u00fd\",\n\"Nh\\u00e2n vi\\u00ean ch\\u00ednh th\\u1ee9c\"]],\n        columns: [[\"string\", \"URL\"], [\"string\", \"NganhNghe\"], [\"string\", \"HinhThuc\"]],\n        columnOptions: [],\n        rowsPerPage: 10,\n        helpUrl: \"https://colab.research.google.com/notebooks/data_table.ipynb\",\n        suppressOutputScrolling: true,\n        minimumWidth: undefined,\n      });\n\n      function appendQuickchartButton(parentElement) {\n        let quickchartButtonContainerElement = document.createElement('div');\n        quickchartButtonContainerElement.innerHTML = `\n    <div id=\"df-3bc490b8-3d66-48a7-982b-0962cb896376\">\n      <button class=\"colab-df-quickchart\" onclick=\"quickchart('df-3bc490b8-3d66-48a7-982b-0962cb896376')\"\n                title=\"Suggest charts\"\n                style=\"display:none;\">\n\n<svg xmlns=\"http://www.w3.org/2000/svg\" height=\"24px\"viewBox=\"0 0 24 24\"\n     width=\"24px\">\n    <g>\n        <path d=\"M19 3H5c-1.1 0-2 .9-2 2v14c0 1.1.9 2 2 2h14c1.1 0 2-.9 2-2V5c0-1.1-.9-2-2-2zM9 17H7v-7h2v7zm4 0h-2V7h2v10zm4 0h-2v-4h2v4z\"/>\n    </g>\n</svg>\n      </button>\n\n<style>\n  .colab-df-quickchart {\n      --bg-color: #E8F0FE;\n      --fill-color: #1967D2;\n      --hover-bg-color: #E2EBFA;\n      --hover-fill-color: #174EA6;\n      --disabled-fill-color: #AAA;\n      --disabled-bg-color: #DDD;\n  }\n\n  [theme=dark] .colab-df-quickchart {\n      --bg-color: #3B4455;\n      --fill-color: #D2E3FC;\n      --hover-bg-color: #434B5C;\n      --hover-fill-color: #FFFFFF;\n      --disabled-bg-color: #3B4455;\n      --disabled-fill-color: #666;\n  }\n\n  .colab-df-quickchart {\n    background-color: var(--bg-color);\n    border: none;\n    border-radius: 50%;\n    cursor: pointer;\n    display: none;\n    fill: var(--fill-color);\n    height: 32px;\n    padding: 0;\n    width: 32px;\n  }\n\n  .colab-df-quickchart:hover {\n    background-color: var(--hover-bg-color);\n    box-shadow: 0 1px 2px rgba(60, 64, 67, 0.3), 0 1px 3px 1px rgba(60, 64, 67, 0.15);\n    fill: var(--button-hover-fill-color);\n  }\n\n  .colab-df-quickchart-complete:disabled,\n  .colab-df-quickchart-complete:disabled:hover {\n    background-color: var(--disabled-bg-color);\n    fill: var(--disabled-fill-color);\n    box-shadow: none;\n  }\n\n  .colab-df-spinner {\n    border: 2px solid var(--fill-color);\n    border-color: transparent;\n    border-bottom-color: var(--fill-color);\n    animation:\n      spin 1s steps(1) infinite;\n  }\n\n  @keyframes spin {\n    0% {\n      border-color: transparent;\n      border-bottom-color: var(--fill-color);\n      border-left-color: var(--fill-color);\n    }\n    20% {\n      border-color: transparent;\n      border-left-color: var(--fill-color);\n      border-top-color: var(--fill-color);\n    }\n    30% {\n      border-color: transparent;\n      border-left-color: var(--fill-color);\n      border-top-color: var(--fill-color);\n      border-right-color: var(--fill-color);\n    }\n    40% {\n      border-color: transparent;\n      border-right-color: var(--fill-color);\n      border-top-color: var(--fill-color);\n    }\n    60% {\n      border-color: transparent;\n      border-right-color: var(--fill-color);\n    }\n    80% {\n      border-color: transparent;\n      border-right-color: var(--fill-color);\n      border-bottom-color: var(--fill-color);\n    }\n    90% {\n      border-color: transparent;\n      border-bottom-color: var(--fill-color);\n    }\n  }\n</style>\n\n      <script>\n        async function quickchart(key) {\n          const quickchartButtonEl =\n            document.querySelector('#' + key + ' button');\n          quickchartButtonEl.disabled = true;  // To prevent multiple clicks.\n          quickchartButtonEl.classList.add('colab-df-spinner');\n          try {\n            const charts = await google.colab.kernel.invokeFunction(\n                'suggestCharts', [key], {});\n          } catch (error) {\n            console.error('Error during call to suggestCharts:', error);\n          }\n          quickchartButtonEl.classList.remove('colab-df-spinner');\n          quickchartButtonEl.classList.add('colab-df-quickchart-complete');\n        }\n        (() => {\n          let quickchartButtonEl =\n            document.querySelector('#df-3bc490b8-3d66-48a7-982b-0962cb896376 button');\n          quickchartButtonEl.style.display =\n            google.colab.kernel.accessAllowed ? 'block' : 'none';\n        })();\n      </script>\n    </div>`;\n        parentElement.appendChild(quickchartButtonContainerElement);\n      }\n\n      appendQuickchartButton(table);\n    ",
            "text/plain": [
              "<google.colab.data_table.DataTable object>"
            ]
          },
          "metadata": {}
        },
        {
          "output_type": "stream",
          "name": "stdout",
          "text": [
            "\n",
            "Dữ liệu đã được lưu vào file: careerviet_nganh_nghe_hinh_thuc.xlsx\n"
          ]
        }
      ]
    },
    {
      "cell_type": "code",
      "source": [],
      "metadata": {
        "id": "7AThS1j7UOeQ"
      },
      "execution_count": null,
      "outputs": []
    }
  ]
}